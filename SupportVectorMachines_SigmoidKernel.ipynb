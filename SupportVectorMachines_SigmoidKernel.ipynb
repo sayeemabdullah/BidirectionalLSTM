{
  "nbformat": 4,
  "nbformat_minor": 0,
  "metadata": {
    "colab": {
      "name": "SupportVectorMachines-SigmoidKernel.ipynb",
      "provenance": [],
      "authorship_tag": "ABX9TyPsxIo6z3PMtC4vu33C6838",
      "include_colab_link": true
    },
    "kernelspec": {
      "name": "python3",
      "display_name": "Python 3"
    }
  },
  "cells": [
    {
      "cell_type": "markdown",
      "metadata": {
        "id": "view-in-github",
        "colab_type": "text"
      },
      "source": [
        "<a href=\"https://colab.research.google.com/github/sayeemabdullah/Machine-Learning-Classifiers/blob/master/SupportVectorMachines_SigmoidKernel.ipynb\" target=\"_parent\"><img src=\"https://colab.research.google.com/assets/colab-badge.svg\" alt=\"Open In Colab\"/></a>"
      ]
    },
    {
      "cell_type": "code",
      "metadata": {
        "id": "RH9gKbgrwl_o",
        "colab_type": "code",
        "colab": {
          "base_uri": "https://localhost:8080/",
          "height": 118
        },
        "outputId": "1efceeaa-30cf-404e-d07f-ad9013146a16"
      },
      "source": [
        "import pandas as pd\n",
        "\n",
        "url_eeg = 'https://raw.githubusercontent.com/sayeemabdullah/Machine-Learning-Classifiers/master/Dataset/EEG_data.csv'\n",
        "url_demo = 'https://raw.githubusercontent.com/sayeemabdullah/Machine-Learning-Classifiers/master/Dataset/demographic_info.csv'\n",
        "df_eeg = pd.read_csv(url_eeg)\n",
        "df_demo = pd.read_csv(url_demo)\n",
        "df_eeg.drop(['SubjectID', 'VideoID', 'predefinedlabel'], axis='columns', inplace=True)\n",
        "df_eeg\n",
        "# df_eeg['user-definedlabeln'].plot()\n",
        "x = df_eeg.drop('user-definedlabeln',axis=1).values\n",
        "y = df_eeg['user-definedlabeln'].values\n",
        "\n",
        "from sklearn.model_selection import train_test_split\n",
        "x_train, x_test, y_train, y_test = train_test_split(x, y, test_size=0.2, random_state=42)\n",
        "\n",
        "from sklearn.preprocessing import RobustScaler \n",
        "scaler = RobustScaler()\n",
        "scaler.fit(x_train) \n",
        "x_train = scaler.transform(x_train)\n",
        "x_test = scaler.transform(x_test)\n",
        "\n",
        "from sklearn import svm\n",
        "import numpy as np\n",
        "\n",
        "clf = svm.SVC(kernel='sigmoid')\n",
        "clf.fit(x_train, y_train)\n",
        "y_pred = clf.predict(x_test)\n",
        "\n",
        "from sklearn import metrics\n",
        "print(\"Accuracy:\",metrics.accuracy_score(y_test, y_pred))\n",
        "print(\"Precision:\",metrics.precision_score(y_test, y_pred))\n",
        "print(\"Recall:\",metrics.recall_score(y_test, y_pred))\n",
        "print(\"F1 Score:\",metrics.f1_score(y_test, y_pred))\n",
        "\n",
        "from sklearn.metrics import recall_score\n",
        "tpr = recall_score(y_test, y_pred) \n",
        "tnr = recall_score(y_test, y_pred, pos_label = 0) \n",
        "fpr = 1 - tnr\n",
        "fnr = 1 - tpr\n",
        "print(\"False Positive Rate:\",fpr)\n",
        "print(\"False Negative Rate:\",fnr)"
      ],
      "execution_count": 3,
      "outputs": [
        {
          "output_type": "stream",
          "text": [
            "Accuracy: 0.500585251658213\n",
            "Precision: 0.49445676274944567\n",
            "Recall: 0.5288537549407115\n",
            "F1 Score: 0.5110771581359816\n",
            "False Positive Rate: 0.5269645608628659\n",
            "False Negative Rate: 0.4711462450592885\n"
          ],
          "name": "stdout"
        }
      ]
    }
  ]
}