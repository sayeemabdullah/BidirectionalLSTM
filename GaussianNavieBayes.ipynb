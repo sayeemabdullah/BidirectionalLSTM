{
  "nbformat": 4,
  "nbformat_minor": 0,
  "metadata": {
    "colab": {
      "name": "GaussianNavieBayes.ipynb",
      "provenance": [],
      "authorship_tag": "ABX9TyNqDF9N1kvcnbixQ9MxIw6y",
      "include_colab_link": true
    },
    "kernelspec": {
      "name": "python3",
      "display_name": "Python 3"
    }
  },
  "cells": [
    {
      "cell_type": "markdown",
      "metadata": {
        "id": "view-in-github",
        "colab_type": "text"
      },
      "source": [
        "<a href=\"https://colab.research.google.com/github/sayeemabdullah/Machine-Learning-Classifiers/blob/master/GaussianNavieBayes.ipynb\" target=\"_parent\"><img src=\"https://colab.research.google.com/assets/colab-badge.svg\" alt=\"Open In Colab\"/></a>"
      ]
    },
    {
      "cell_type": "code",
      "metadata": {
        "id": "g0AIrprjtuaw",
        "colab_type": "code",
        "colab": {
          "base_uri": "https://localhost:8080/",
          "height": 118
        },
        "outputId": "a8f4fd17-fb82-451f-a342-c9001885db3f"
      },
      "source": [
        "import pandas as pd\n",
        "\n",
        "url_eeg = 'https://raw.githubusercontent.com/sayeemabdullah/Machine-Learning-Classifiers/master/Dataset/EEG_data.csv'\n",
        "url_demo = 'https://raw.githubusercontent.com/sayeemabdullah/Machine-Learning-Classifiers/master/Dataset/demographic_info.csv'\n",
        "df_eeg = pd.read_csv(url_eeg)\n",
        "df_demo = pd.read_csv(url_demo)\n",
        "df_eeg.drop(['SubjectID', 'VideoID', 'predefinedlabel'], axis='columns', inplace=True)\n",
        "df_eeg\n",
        "# df_eeg['user-definedlabeln'].plot()\n",
        "x = df_eeg.drop('user-definedlabeln',axis=1).values\n",
        "y = df_eeg['user-definedlabeln'].values\n",
        "\n",
        "from sklearn.model_selection import train_test_split\n",
        "x_train, x_test, y_train, y_test = train_test_split(x, y, test_size=0.2, random_state=42)\n",
        "\n",
        "\n",
        "from sklearn.naive_bayes import GaussianNB\n",
        "gaussmama = GaussianNB()\n",
        "gaussmama.fit(x_train, y_train)\n",
        "y_pred = gaussmama.predict(x_test)\n",
        "\n",
        "from sklearn import metrics\n",
        "print(\"Accuracy:\",metrics.accuracy_score(y_test, y_pred))\n",
        "print(\"Precision:\",metrics.precision_score(y_test, y_pred))\n",
        "print(\"Recall:\",metrics.recall_score(y_test, y_pred))\n",
        "print(\"F1 Score:\",metrics.f1_score(y_test, y_pred))\n",
        "\n",
        "from sklearn.metrics import recall_score\n",
        "tpr = recall_score(y_test, y_pred) \n",
        "tnr = recall_score(y_test, y_pred, pos_label = 0) \n",
        "fpr = 1 - tnr\n",
        "fnr = 1 - tpr\n",
        "print(\"False Positive Rate:\",fpr)\n",
        "print(\"False Negative Rate:\",fnr)"
      ],
      "execution_count": 1,
      "outputs": [
        {
          "output_type": "stream",
          "text": [
            "Accuracy: 0.5454545454545454\n",
            "Precision: 0.6101321585903083\n",
            "Recall: 0.2189723320158103\n",
            "F1 Score: 0.32228039557882493\n",
            "False Positive Rate: 0.13636363636363635\n",
            "False Negative Rate: 0.7810276679841897\n"
          ],
          "name": "stdout"
        }
      ]
    }
  ]
}