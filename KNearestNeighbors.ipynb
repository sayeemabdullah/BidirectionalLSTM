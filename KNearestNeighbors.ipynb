{
  "nbformat": 4,
  "nbformat_minor": 0,
  "metadata": {
    "colab": {
      "name": "KNearestNeighbors.ipynb",
      "provenance": [],
      "authorship_tag": "ABX9TyN1/OzODxtL+uLt+WYxMw9k",
      "include_colab_link": true
    },
    "kernelspec": {
      "name": "python3",
      "display_name": "Python 3"
    }
  },
  "cells": [
    {
      "cell_type": "markdown",
      "metadata": {
        "id": "view-in-github",
        "colab_type": "text"
      },
      "source": [
        "<a href=\"https://colab.research.google.com/github/sayeemabdullah/Machine-Learning-Classifiers/blob/master/KNearestNeighbors.ipynb\" target=\"_parent\"><img src=\"https://colab.research.google.com/assets/colab-badge.svg\" alt=\"Open In Colab\"/></a>"
      ]
    },
    {
      "cell_type": "code",
      "metadata": {
        "id": "F3gD90bjVe65",
        "colab_type": "code",
        "colab": {
          "base_uri": "https://localhost:8080/",
          "height": 34
        },
        "outputId": "d4c064d4-d774-4f5f-9ead-d37d58fd4f56"
      },
      "source": [
        "import pandas as pd\n",
        "\n",
        "url_eeg = 'https://raw.githubusercontent.com/sayeemabdullah/Machine-Learning-Classifiers/master/Dataset/EEG_data.csv'\n",
        "url_demo = 'https://raw.githubusercontent.com/sayeemabdullah/Machine-Learning-Classifiers/master/Dataset/demographic_info.csv'\n",
        "df_eeg = pd.read_csv(url_eeg)\n",
        "df_demo = pd.read_csv(url_demo)\n",
        "df_eeg.drop(['SubjectID', 'VideoID', 'predefinedlabel'], axis='columns', inplace=True)\n",
        "df_eeg\n",
        "# df_eeg['user-definedlabeln'].plot()\n",
        "x = df_eeg.drop('user-definedlabeln',axis=1).values\n",
        "y = df_eeg['user-definedlabeln'].values\n",
        "\n",
        "from sklearn.model_selection import train_test_split\n",
        "x_train, x_test, y_train, y_test = train_test_split(x, y, test_size=0.2, random_state=42)\n",
        "\n",
        "from sklearn.neighbors import KNeighborsClassifier\n",
        "knn = KNeighborsClassifier(n_neighbors=3)\n",
        "knn.fit(x_train, y_train)\n",
        "y_pred = knn.predict(x_test)\n",
        "\n",
        "\n",
        "from sklearn import metrics\n",
        "print(\"Accuracy:\",metrics.accuracy_score(y_test, y_pred))"
      ],
      "execution_count": 8,
      "outputs": [
        {
          "output_type": "stream",
          "text": [
            "Accuracy: 0.5598907530238002\n"
          ],
          "name": "stdout"
        }
      ]
    }
  ]
}