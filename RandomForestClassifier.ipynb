{
  "nbformat": 4,
  "nbformat_minor": 0,
  "metadata": {
    "colab": {
      "name": "RandomForestClassifier.ipynb",
      "provenance": [],
      "collapsed_sections": [],
      "include_colab_link": true
    },
    "kernelspec": {
      "name": "python3",
      "display_name": "Python 3"
    }
  },
  "cells": [
    {
      "cell_type": "markdown",
      "metadata": {
        "id": "view-in-github",
        "colab_type": "text"
      },
      "source": [
        "<a href=\"https://colab.research.google.com/github/sayeemabdullah/Machine-Learning-Classifiers/blob/master/RandomForestClassifier.ipynb\" target=\"_parent\"><img src=\"https://colab.research.google.com/assets/colab-badge.svg\" alt=\"Open In Colab\"/></a>"
      ]
    },
    {
      "cell_type": "code",
      "metadata": {
        "id": "MHjPc3V_KSVZ",
        "colab_type": "code",
        "colab": {
          "base_uri": "https://localhost:8080/",
          "height": 118
        },
        "outputId": "f1fabb52-9f65-4755-f489-b1127f923de4"
      },
      "source": [
        "import pandas as pd\n",
        "\n",
        "url_eeg = 'https://raw.githubusercontent.com/sayeemabdullah/Machine-Learning-Classifiers/master/Dataset/EEG_data.csv'\n",
        "url_demo = 'https://raw.githubusercontent.com/sayeemabdullah/Machine-Learning-Classifiers/master/Dataset/demographic_info.csv'\n",
        "df_eeg = pd.read_csv(url_eeg)\n",
        "df_demo = pd.read_csv(url_demo)\n",
        "df_eeg.drop(['SubjectID', 'VideoID', 'predefinedlabel'], axis='columns', inplace=True)\n",
        "df_eeg\n",
        "# df_eeg['user-definedlabeln'].plot()\n",
        "x = df_eeg.drop('user-definedlabeln',axis=1).values\n",
        "y = df_eeg['user-definedlabeln'].values\n",
        "\n",
        "from sklearn.model_selection import train_test_split\n",
        "x_train, x_test, y_train, y_test = train_test_split(x, y, test_size=0.2, random_state=42)\n",
        "\n",
        "from sklearn.ensemble import RandomForestClassifier\n",
        "\n",
        "clf=RandomForestClassifier(n_estimators=50)\n",
        "clf.fit(x_train,y_train)\n",
        "y_pred=clf.predict(x_test)\n",
        "\n",
        "from sklearn import metrics\n",
        "print(\"Accuracy:\",metrics.accuracy_score(y_test, y_pred))\n",
        "print(\"Precision:\",metrics.precision_score(y_test, y_pred))\n",
        "print(\"Recall:\",metrics.recall_score(y_test, y_pred))\n",
        "print(\"F1 Score:\",metrics.f1_score(y_test, y_pred))\n",
        "\n",
        "from sklearn.metrics import recall_score\n",
        "tpr = recall_score(y_test, y_pred) \n",
        "tnr = recall_score(y_test, y_pred, pos_label = 0) \n",
        "fpr = 1 - tnr\n",
        "fnr = 1 - tpr\n",
        "print(\"False Positive Rate:\",fpr)\n",
        "print(\"False Negative Rate:\",fnr)"
      ],
      "execution_count": 1,
      "outputs": [
        {
          "output_type": "stream",
          "text": [
            "Accuracy: 0.667186890362856\n",
            "Precision: 0.6537313432835821\n",
            "Recall: 0.6924901185770751\n",
            "F1 Score: 0.672552783109405\n",
            "False Positive Rate: 0.3574730354391371\n",
            "False Negative Rate: 0.3075098814229249\n"
          ],
          "name": "stdout"
        }
      ]
    }
  ]
}