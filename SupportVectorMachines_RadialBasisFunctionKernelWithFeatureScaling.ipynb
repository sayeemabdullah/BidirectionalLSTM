{
  "nbformat": 4,
  "nbformat_minor": 0,
  "metadata": {
    "colab": {
      "name": "SupportVectorMachines-RadialBasisFunctionKernelWithFeatureScaling.ipynb",
      "provenance": [],
      "authorship_tag": "ABX9TyMnPVAEgrdBsVsjaofmhPEq",
      "include_colab_link": true
    },
    "kernelspec": {
      "name": "python3",
      "display_name": "Python 3"
    }
  },
  "cells": [
    {
      "cell_type": "markdown",
      "metadata": {
        "id": "view-in-github",
        "colab_type": "text"
      },
      "source": [
        "<a href=\"https://colab.research.google.com/github/sayeemabdullah/Machine-Learning-Classifiers/blob/master/SupportVectorMachines_RadialBasisFunctionKernelWithFeatureScaling.ipynb\" target=\"_parent\"><img src=\"https://colab.research.google.com/assets/colab-badge.svg\" alt=\"Open In Colab\"/></a>"
      ]
    },
    {
      "cell_type": "code",
      "metadata": {
        "id": "AUXvb7fNQWMs",
        "colab_type": "code",
        "colab": {
          "base_uri": "https://localhost:8080/",
          "height": 118
        },
        "outputId": "7a1926a1-d739-40e8-bb5b-159ce36d2518"
      },
      "source": [
        "import pandas as pd\n",
        "\n",
        "url_eeg = 'https://raw.githubusercontent.com/sayeemabdullah/Machine-Learning-Classifiers/master/Dataset/EEG_data.csv'\n",
        "url_demo = 'https://raw.githubusercontent.com/sayeemabdullah/Machine-Learning-Classifiers/master/Dataset/demographic_info.csv'\n",
        "df_eeg = pd.read_csv(url_eeg)\n",
        "df_demo = pd.read_csv(url_demo)\n",
        "df_eeg.drop(['SubjectID', 'VideoID', 'predefinedlabel'], axis='columns', inplace=True)\n",
        "df_eeg\n",
        "# df_eeg['user-definedlabeln'].plot()\n",
        "x = df_eeg.drop('user-definedlabeln',axis=1).values\n",
        "y = df_eeg['user-definedlabeln'].values\n",
        "\n",
        "from sklearn.model_selection import train_test_split\n",
        "x_train, x_test, y_train, y_test = train_test_split(x, y, test_size=0.2, random_state=42)\n",
        "\n",
        "from sklearn.preprocessing import MinMaxScaler \n",
        "scaler = MinMaxScaler()\n",
        "scaler.fit(x_train)\n",
        "x_train = scaler.transform(x_train)\n",
        "x_test = scaler.transform(x_test)\n",
        "\n",
        "from sklearn import svm\n",
        "import numpy as np\n",
        "\n",
        "clf = svm.SVC(kernel='rbf' , C = 1e-05 , gamma = 0.03125)\n",
        "clf.fit(x_train, y_train)\n",
        "y_pred = clf.predict(x_test)\n",
        "\n",
        "from sklearn import metrics\n",
        "print(\"Accuracy:\",metrics.accuracy_score(y_test, y_pred))\n",
        "print(\"Precision:\",metrics.precision_score(y_test, y_pred))\n",
        "print(\"Recall:\",metrics.recall_score(y_test, y_pred))\n",
        "print(\"F1 Score:\",metrics.f1_score(y_test, y_pred))\n",
        "\n",
        "from sklearn.metrics import recall_score\n",
        "tpr = recall_score(y_test, y_pred) \n",
        "tnr = recall_score(y_test, y_pred, pos_label = 0) \n",
        "fpr = 1 - tnr\n",
        "fnr = 1 - tpr\n",
        "print(\"False Positive Rate:\",fpr)\n",
        "print(\"False Negative Rate:\",fnr)"
      ],
      "execution_count": 4,
      "outputs": [
        {
          "output_type": "stream",
          "text": [
            "Accuracy: 0.49356223175965663\n",
            "Precision: 0.49356223175965663\n",
            "Recall: 1.0\n",
            "F1 Score: 0.6609195402298851\n",
            "False Positive Rate: 1.0\n",
            "False Negative Rate: 0.0\n"
          ],
          "name": "stdout"
        }
      ]
    },
    {
      "cell_type": "code",
      "metadata": {
        "id": "d0eAxNfuRLWI",
        "colab_type": "code",
        "colab": {
          "base_uri": "https://localhost:8080/",
          "height": 118
        },
        "outputId": "c905bba4-0b19-4b0c-ed1a-f05265734de2"
      },
      "source": [
        "import pandas as pd\n",
        "\n",
        "url_eeg = 'https://raw.githubusercontent.com/sayeemabdullah/Machine-Learning-Classifiers/master/Dataset/EEG_data.csv'\n",
        "url_demo = 'https://raw.githubusercontent.com/sayeemabdullah/Machine-Learning-Classifiers/master/Dataset/demographic_info.csv'\n",
        "df_eeg = pd.read_csv(url_eeg)\n",
        "df_demo = pd.read_csv(url_demo)\n",
        "df_eeg.drop(['SubjectID', 'VideoID', 'predefinedlabel'], axis='columns', inplace=True)\n",
        "df_eeg\n",
        "# df_eeg['user-definedlabeln'].plot()\n",
        "x = df_eeg.drop('user-definedlabeln',axis=1).values\n",
        "y = df_eeg['user-definedlabeln'].values\n",
        "\n",
        "from sklearn.model_selection import train_test_split\n",
        "x_train, x_test, y_train, y_test = train_test_split(x, y, test_size=0.2, random_state=42)\n",
        "\n",
        "from sklearn.preprocessing import StandardScaler \n",
        "scaler = StandardScaler()\n",
        "scaler.fit(x_train) \n",
        "x_train = scaler.transform(x_train)\n",
        "x_test = scaler.transform(x_test)\n",
        "\n",
        "\n",
        "from sklearn import svm\n",
        "import numpy as np\n",
        "\n",
        "clf = svm.SVC(kernel='rbf' , C = 1e-05 , gamma = 0.03125)\n",
        "clf.fit(x_train, y_train)\n",
        "y_pred = clf.predict(x_test)\n",
        "\n",
        "from sklearn import metrics\n",
        "print(\"Accuracy:\",metrics.accuracy_score(y_test, y_pred))\n",
        "print(\"Precision:\",metrics.precision_score(y_test, y_pred))\n",
        "print(\"Recall:\",metrics.recall_score(y_test, y_pred))\n",
        "print(\"F1 Score:\",metrics.f1_score(y_test, y_pred))\n",
        "\n",
        "from sklearn.metrics import recall_score\n",
        "tpr = recall_score(y_test, y_pred) \n",
        "tnr = recall_score(y_test, y_pred, pos_label = 0) \n",
        "fpr = 1 - tnr\n",
        "fnr = 1 - tpr\n",
        "print(\"False Positive Rate:\",fpr)\n",
        "print(\"False Negative Rate:\",fnr)"
      ],
      "execution_count": 5,
      "outputs": [
        {
          "output_type": "stream",
          "text": [
            "Accuracy: 0.49356223175965663\n",
            "Precision: 0.49356223175965663\n",
            "Recall: 1.0\n",
            "F1 Score: 0.6609195402298851\n",
            "False Positive Rate: 1.0\n",
            "False Negative Rate: 0.0\n"
          ],
          "name": "stdout"
        }
      ]
    },
    {
      "cell_type": "code",
      "metadata": {
        "id": "0M0DHeoARu1B",
        "colab_type": "code",
        "colab": {}
      },
      "source": [
        ""
      ],
      "execution_count": null,
      "outputs": []
    },
    {
      "cell_type": "code",
      "metadata": {
        "id": "bq_77NBzRhjE",
        "colab_type": "code",
        "colab": {
          "base_uri": "https://localhost:8080/",
          "height": 118
        },
        "outputId": "095bb792-4d0d-41bc-bf75-cae3b94137de"
      },
      "source": [
        "import pandas as pd\n",
        "\n",
        "url_eeg = 'https://raw.githubusercontent.com/sayeemabdullah/Machine-Learning-Classifiers/master/Dataset/EEG_data.csv'\n",
        "url_demo = 'https://raw.githubusercontent.com/sayeemabdullah/Machine-Learning-Classifiers/master/Dataset/demographic_info.csv'\n",
        "df_eeg = pd.read_csv(url_eeg)\n",
        "df_demo = pd.read_csv(url_demo)\n",
        "df_eeg.drop(['SubjectID', 'VideoID', 'predefinedlabel'], axis='columns', inplace=True)\n",
        "df_eeg\n",
        "# df_eeg['user-definedlabeln'].plot()\n",
        "x = df_eeg.drop('user-definedlabeln',axis=1).values\n",
        "y = df_eeg['user-definedlabeln'].values\n",
        "\n",
        "from sklearn.model_selection import train_test_split\n",
        "x_train, x_test, y_train, y_test = train_test_split(x, y, test_size=0.2, random_state=42)\n",
        "\n",
        "from sklearn.preprocessing import RobustScaler \n",
        "scaler = RobustScaler()\n",
        "scaler.fit(x_train) \n",
        "x_train = scaler.transform(x_train)\n",
        "x_test = scaler.transform(x_test)\n",
        "\n",
        "\n",
        "from sklearn import svm\n",
        "import numpy as np\n",
        "\n",
        "clf = svm.SVC(kernel='rbf' , C = 1e-05 , gamma = 0.03125)\n",
        "clf.fit(x_train, y_train)\n",
        "y_pred = clf.predict(x_test)\n",
        "\n",
        "from sklearn import metrics\n",
        "print(\"Accuracy:\",metrics.accuracy_score(y_test, y_pred))\n",
        "print(\"Precision:\",metrics.precision_score(y_test, y_pred))\n",
        "print(\"Recall:\",metrics.recall_score(y_test, y_pred))\n",
        "print(\"F1 Score:\",metrics.f1_score(y_test, y_pred))\n",
        "\n",
        "from sklearn.metrics import recall_score\n",
        "tpr = recall_score(y_test, y_pred) \n",
        "tnr = recall_score(y_test, y_pred, pos_label = 0) \n",
        "fpr = 1 - tnr\n",
        "fnr = 1 - tpr\n",
        "print(\"False Positive Rate:\",fpr)\n",
        "print(\"False Negative Rate:\",fnr)"
      ],
      "execution_count": 8,
      "outputs": [
        {
          "output_type": "stream",
          "text": [
            "Accuracy: 0.49356223175965663\n",
            "Precision: 0.49356223175965663\n",
            "Recall: 1.0\n",
            "F1 Score: 0.6609195402298851\n",
            "False Positive Rate: 1.0\n",
            "False Negative Rate: 0.0\n"
          ],
          "name": "stdout"
        }
      ]
    },
    {
      "cell_type": "code",
      "metadata": {
        "id": "mDpV0GQYTEwz",
        "colab_type": "code",
        "colab": {
          "base_uri": "https://localhost:8080/",
          "height": 118
        },
        "outputId": "1bbfe0b8-c7f3-4c79-bd46-135c3a625159"
      },
      "source": [
        "import pandas as pd\n",
        "\n",
        "url_eeg = 'https://raw.githubusercontent.com/sayeemabdullah/Machine-Learning-Classifiers/master/Dataset/EEG_data.csv'\n",
        "url_demo = 'https://raw.githubusercontent.com/sayeemabdullah/Machine-Learning-Classifiers/master/Dataset/demographic_info.csv'\n",
        "df_eeg = pd.read_csv(url_eeg)\n",
        "df_demo = pd.read_csv(url_demo)\n",
        "df_eeg.drop(['SubjectID', 'VideoID', 'predefinedlabel'], axis='columns', inplace=True)\n",
        "df_eeg\n",
        "# df_eeg['user-definedlabeln'].plot()\n",
        "x = df_eeg.drop('user-definedlabeln',axis=1).values\n",
        "y = df_eeg['user-definedlabeln'].values\n",
        "\n",
        "from sklearn.model_selection import train_test_split\n",
        "x_train, x_test, y_train, y_test = train_test_split(x, y, test_size=0.2, random_state=42)\n",
        "\n",
        "from sklearn.preprocessing import Normalizer \n",
        "scaler = Normalizer()\n",
        "scaler.fit(x_train) \n",
        "x_train = scaler.transform(x_train)\n",
        "x_test = scaler.transform(x_test)\n",
        "\n",
        "\n",
        "from sklearn import svm\n",
        "import numpy as np\n",
        "\n",
        "clf = svm.SVC(kernel='rbf' , C = 1e-05 , gamma = 0.03125)\n",
        "clf.fit(x_train, y_train)\n",
        "y_pred = clf.predict(x_test)\n",
        "\n",
        "from sklearn import metrics\n",
        "print(\"Accuracy:\",metrics.accuracy_score(y_test, y_pred))\n",
        "print(\"Precision:\",metrics.precision_score(y_test, y_pred))\n",
        "print(\"Recall:\",metrics.recall_score(y_test, y_pred))\n",
        "print(\"F1 Score:\",metrics.f1_score(y_test, y_pred))\n",
        "\n",
        "from sklearn.metrics import recall_score\n",
        "tpr = recall_score(y_test, y_pred) \n",
        "tnr = recall_score(y_test, y_pred, pos_label = 0) \n",
        "fpr = 1 - tnr\n",
        "fnr = 1 - tpr\n",
        "print(\"False Positive Rate:\",fpr)\n",
        "print(\"False Negative Rate:\",fnr)"
      ],
      "execution_count": 9,
      "outputs": [
        {
          "output_type": "stream",
          "text": [
            "Accuracy: 0.49356223175965663\n",
            "Precision: 0.49356223175965663\n",
            "Recall: 1.0\n",
            "F1 Score: 0.6609195402298851\n",
            "False Positive Rate: 1.0\n",
            "False Negative Rate: 0.0\n"
          ],
          "name": "stdout"
        }
      ]
    }
  ]
}